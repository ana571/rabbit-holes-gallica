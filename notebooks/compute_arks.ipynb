{
 "cells": [
  {
   "cell_type": "code",
   "execution_count": 22,
   "id": "c187bb96-fd1a-49e4-bd9a-a8331880de8c",
   "metadata": {},
   "outputs": [],
   "source": [
    "# import relevant libraries\n",
    "import pandas as pd\n",
    "import requests\n",
    "from bs4 import BeautifulSoup\n",
    "from tqdm import tqdm"
   ]
  },
  {
   "cell_type": "markdown",
   "id": "8859e0b2-5d0e-4284-99c0-8639a8a6cd27",
   "metadata": {},
   "source": [
    "We want to compute the arks that are needed to enrich our logs. This request is quite slow so we do it incrementally. We load the arks already requested, remove them from the list of arks to request and then perform the request."
   ]
  },
  {
   "cell_type": "code",
   "execution_count": null,
   "id": "5b2d978e-bec2-4489-8d97-197188e5b664",
   "metadata": {},
   "outputs": [],
   "source": [
    "# load arks that were already requested to remove them from the list of unique arks to request\n",
    "arks_already_requested = pd.read_csv(\"arks_final/arks_non_empty.csv\")"
   ]
  },
  {
   "cell_type": "code",
   "execution_count": null,
   "id": "6d9d1aee-d48e-4090-a801-3953eb5fcc10",
   "metadata": {},
   "outputs": [],
   "source": [
    "# load arks that were not requested\n",
    "arks_not_computed = pd.read_csv(\"data_temp_month/unique_arks/unique_arks_counts0.csv\")"
   ]
  },
  {
   "cell_type": "code",
   "execution_count": null,
   "id": "5f37f7fa-4c0b-4efa-ac5e-2cf1b0ff2b40",
   "metadata": {},
   "outputs": [],
   "source": [
    "# remove those already requested from those not computed\n",
    "arks_to_request = arks_not_computed[~arks_not_computed['Ark'].isin(arks_already_requested['Ark'])]"
   ]
  },
  {
   "cell_type": "markdown",
   "id": "082c1e86-29fc-4eca-b2e1-847f05b2ae66",
   "metadata": {},
   "source": [
    "We can adapt this by repeating this step for other dataframes of arks that were already requested."
   ]
  },
  {
   "cell_type": "markdown",
   "id": "22155dc7-bd7a-4c81-b98e-4ebae7907793",
   "metadata": {},
   "source": [
    "Some arks may not be valid, we look at the head of the arks we want to request and if needed start at a certain index."
   ]
  },
  {
   "cell_type": "code",
   "execution_count": null,
   "id": "651638eb-66b2-4218-b196-6ec8ffa2801e",
   "metadata": {},
   "outputs": [],
   "source": [
    "arks_to_request.head(5)"
   ]
  },
  {
   "cell_type": "code",
   "execution_count": null,
   "id": "ba3cf32f-8165-46cb-9d47-6d7c7dea8d5b",
   "metadata": {},
   "outputs": [],
   "source": [
    "filtered_arks = arks_to_request[1:]"
   ]
  },
  {
   "cell_type": "markdown",
   "id": "cd575335-5b99-4aaf-86d1-f96121acb3c1",
   "metadata": {},
   "source": [
    "The arks enable us to request the metadata of the document they are related to to Gallica. From that, we will extract the theme of the document and its Dewey class, if there is one. Only printed documents and prints have Dewey classes."
   ]
  },
  {
   "cell_type": "code",
   "execution_count": 23,
   "id": "b04400f9-072d-41fe-96a1-91a39f0c685d",
   "metadata": {},
   "outputs": [],
   "source": [
    "# function for OAI request to Gallica\n",
    "def OAI(id):\n",
    "\n",
    "    OAI_BASEURL = 'https://gallica.bnf.fr/services/OAIRecord?ark='\n",
    "\n",
    "    url = \"\".join([OAI_BASEURL, id])\n",
    "\n",
    "    s = requests.get(url, stream=True)\n",
    "    soup = BeautifulSoup(s.content,\"lxml-xml\")\n",
    "    return soup\n",
    "\n",
    "# function to extract type and theme\n",
    "def extract_metadata(ark):\n",
    "    if ark == '-':\n",
    "        return ark, None, None\n",
    "    theme = ''\n",
    "    typedoc = ''\n",
    "    try:\n",
    "        oai_result = OAI(ark)\n",
    "        if oai_result is not None:\n",
    "            # extracting theme\n",
    "            sdewey_tag = oai_result.find(\"sdewey\")\n",
    "            if sdewey_tag:\n",
    "                theme = sdewey_tag.text\n",
    "        \n",
    "            # extracting typedoc\n",
    "            typedoc_tag = oai_result.find(\"typedoc\")\n",
    "            if typedoc_tag:\n",
    "                typedoc = typedoc_tag.text\n",
    "        \n",
    "    except Exception as e:\n",
    "        print(\"Error occurred:\", e)\n",
    "\n",
    "    return ark, theme, typedoc"
   ]
  },
  {
   "cell_type": "markdown",
   "id": "106ebb8a-d8f9-4e9b-809f-626f5365d75f",
   "metadata": {},
   "source": [
    "As the process takes a long time, we show a progress bar and save the result incrementally."
   ]
  },
  {
   "cell_type": "code",
   "execution_count": 36,
   "id": "33fa493f-fdf1-4724-8410-e50ae470ad4d",
   "metadata": {},
   "outputs": [],
   "source": [
    "# function to request the arks metadata, with a progress bar and saving batches to a folder\n",
    "def apply_with_progress(df, func, result_df, batch_size=30000, output_prefix='arks_temp_month/arks_batch'):\n",
    "    result = []\n",
    "    with tqdm(total=len(df)) as pbar:\n",
    "        for index, row in df.iterrows():\n",
    "            curr_result = func(row)\n",
    "            result.append(curr_result)\n",
    "            pbar.update(1)\n",
    "            \n",
    "            # save to CSV file every batch_size ARKs\n",
    "            if len(result) % batch_size == 0:\n",
    "                batch_df = pd.DataFrame(result, columns=['Ark', 'Theme', 'Type'])\n",
    "                batch_df.to_csv(f'{output_prefix}_{len(result)}.csv', index=False)\n",
    "    \n",
    "    return pd.DataFrame(result, columns=['Ark', 'Theme', 'Type'])"
   ]
  },
  {
   "cell_type": "code",
   "execution_count": null,
   "id": "e3f5291f-4955-45f8-8c0c-8dbe14c270d9",
   "metadata": {
    "scrolled": true
   },
   "outputs": [
    {
     "name": "stderr",
     "output_type": "stream",
     "text": [
      "  0%|                              | 5837/2620883 [1:10:58<401:59:50,  1.81it/s]"
     ]
    },
    {
     "name": "stdout",
     "output_type": "stream",
     "text": [
      "Error occurred: ('Connection aborted.', ConnectionResetError(104, 'Connection reset by peer'))\n",
      "Error occurred: ('Connection aborted.', ConnectionResetError(104, 'Connection reset by peer'))\n",
      "Error occurred: ('Connection aborted.', ConnectionResetError(104, 'Connection reset by peer'))\n"
     ]
    },
    {
     "name": "stderr",
     "output_type": "stream",
     "text": [
      "  0%|                              | 5841/2620883 [1:10:58<186:26:11,  3.90it/s]"
     ]
    },
    {
     "name": "stdout",
     "output_type": "stream",
     "text": [
      "Error occurred: ('Connection aborted.', ConnectionResetError(104, 'Connection reset by peer'))\n",
      "Error occurred: ('Connection aborted.', ConnectionResetError(104, 'Connection reset by peer'))\n",
      "Error occurred: ('Connection aborted.', ConnectionResetError(104, 'Connection reset by peer'))\n"
     ]
    },
    {
     "name": "stderr",
     "output_type": "stream",
     "text": [
      "  0%|                              | 5843/2620883 [1:10:58<141:38:35,  5.13it/s]"
     ]
    },
    {
     "name": "stdout",
     "output_type": "stream",
     "text": [
      "Error occurred: ('Connection aborted.', ConnectionResetError(104, 'Connection reset by peer'))\n",
      "Error occurred: ('Connection aborted.', ConnectionResetError(104, 'Connection reset by peer'))\n",
      "Error occurred: ('Connection aborted.', ConnectionResetError(104, 'Connection reset by peer'))\n"
     ]
    },
    {
     "name": "stderr",
     "output_type": "stream",
     "text": [
      "  0%|                              | 5845/2620883 [1:10:58<111:40:47,  6.50it/s]"
     ]
    },
    {
     "name": "stdout",
     "output_type": "stream",
     "text": [
      "Error occurred: ('Connection aborted.', ConnectionResetError(104, 'Connection reset by peer'))\n",
      "Error occurred: ('Connection aborted.', ConnectionResetError(104, 'Connection reset by peer'))\n"
     ]
    },
    {
     "name": "stderr",
     "output_type": "stream",
     "text": [
      "  0%|                              | 5849/2620883 [1:10:59<105:30:14,  6.89it/s]"
     ]
    },
    {
     "name": "stdout",
     "output_type": "stream",
     "text": [
      "Error occurred: ('Connection aborted.', ConnectionResetError(104, 'Connection reset by peer'))\n",
      "Error occurred: ('Connection aborted.', ConnectionResetError(104, 'Connection reset by peer'))\n",
      "Error occurred: ('Connection aborted.', ConnectionResetError(104, 'Connection reset by peer'))\n"
     ]
    },
    {
     "name": "stderr",
     "output_type": "stream",
     "text": [
      "  0%|                               | 5851/2620883 [1:10:59<89:04:22,  8.16it/s]"
     ]
    },
    {
     "name": "stdout",
     "output_type": "stream",
     "text": [
      "Error occurred: ('Connection aborted.', ConnectionResetError(104, 'Connection reset by peer'))\n",
      "Error occurred: ('Connection aborted.', ConnectionResetError(104, 'Connection reset by peer'))\n",
      "Error occurred: ('Connection aborted.', ConnectionResetError(104, 'Connection reset by peer'))\n"
     ]
    },
    {
     "name": "stderr",
     "output_type": "stream",
     "text": [
      "  0%|                               | 5855/2620883 [1:10:59<69:10:48, 10.50it/s]"
     ]
    },
    {
     "name": "stdout",
     "output_type": "stream",
     "text": [
      "Error occurred: ('Connection aborted.', ConnectionResetError(104, 'Connection reset by peer'))\n",
      "Error occurred: ('Connection aborted.', ConnectionResetError(104, 'Connection reset by peer'))\n",
      "Error occurred: ('Connection aborted.', ConnectionResetError(104, 'Connection reset by peer'))\n"
     ]
    },
    {
     "name": "stderr",
     "output_type": "stream",
     "text": [
      "  0%|                               | 5857/2620883 [1:10:59<63:39:05, 11.41it/s]"
     ]
    },
    {
     "name": "stdout",
     "output_type": "stream",
     "text": [
      "Error occurred: ('Connection aborted.', ConnectionResetError(104, 'Connection reset by peer'))\n",
      "Error occurred: ('Connection aborted.', ConnectionResetError(104, 'Connection reset by peer'))\n",
      "Error occurred: ('Connection aborted.', ConnectionResetError(104, 'Connection reset by peer'))\n"
     ]
    },
    {
     "name": "stderr",
     "output_type": "stream",
     "text": [
      "  0%|                               | 5861/2620883 [1:11:00<57:29:31, 12.63it/s]"
     ]
    },
    {
     "name": "stdout",
     "output_type": "stream",
     "text": [
      "Error occurred: ('Connection aborted.', ConnectionResetError(104, 'Connection reset by peer'))\n",
      "Error occurred: ('Connection aborted.', ConnectionResetError(104, 'Connection reset by peer'))\n",
      "Error occurred: ('Connection aborted.', ConnectionResetError(104, 'Connection reset by peer'))\n"
     ]
    },
    {
     "name": "stderr",
     "output_type": "stream",
     "text": [
      "  0%|                               | 5863/2620883 [1:11:00<56:06:55, 12.94it/s]"
     ]
    },
    {
     "name": "stdout",
     "output_type": "stream",
     "text": [
      "Error occurred: ('Connection aborted.', ConnectionResetError(104, 'Connection reset by peer'))\n",
      "Error occurred: ('Connection aborted.', ConnectionResetError(104, 'Connection reset by peer'))\n",
      "Error occurred: ('Connection aborted.', ConnectionResetError(104, 'Connection reset by peer'))\n"
     ]
    },
    {
     "name": "stderr",
     "output_type": "stream",
     "text": [
      "  0%|                               | 5867/2620883 [1:11:00<53:36:36, 13.55it/s]"
     ]
    },
    {
     "name": "stdout",
     "output_type": "stream",
     "text": [
      "Error occurred: ('Connection aborted.', ConnectionResetError(104, 'Connection reset by peer'))\n",
      "Error occurred: ('Connection aborted.', ConnectionResetError(104, 'Connection reset by peer'))\n",
      "Error occurred: ('Connection aborted.', ConnectionResetError(104, 'Connection reset by peer'))\n"
     ]
    },
    {
     "name": "stderr",
     "output_type": "stream",
     "text": [
      "  0%|                               | 5869/2620883 [1:11:00<55:42:13, 13.04it/s]"
     ]
    },
    {
     "name": "stdout",
     "output_type": "stream",
     "text": [
      "Error occurred: ('Connection aborted.', ConnectionResetError(104, 'Connection reset by peer'))\n"
     ]
    },
    {
     "name": "stderr",
     "output_type": "stream",
     "text": [
      "  1%|▏                            | 21129/2620883 [4:31:54<336:09:50,  2.15it/s]"
     ]
    },
    {
     "name": "stdout",
     "output_type": "stream",
     "text": [
      "Error occurred: ('Connection aborted.', RemoteDisconnected('Remote end closed connection without response'))\n"
     ]
    },
    {
     "name": "stderr",
     "output_type": "stream",
     "text": [
      "  1%|▏                            | 21132/2620883 [4:31:55<305:13:40,  2.37it/s]"
     ]
    },
    {
     "name": "stdout",
     "output_type": "stream",
     "text": [
      "Error occurred: ('Connection aborted.', ConnectionResetError(104, 'Connection reset by peer'))\n",
      "Error occurred: ('Connection aborted.', ConnectionResetError(104, 'Connection reset by peer'))\n",
      "Error occurred: ('Connection aborted.', ConnectionResetError(104, 'Connection reset by peer'))\n",
      "Error occurred: ('Connection aborted.', ConnectionResetError(104, 'Connection reset by peer'))\n"
     ]
    },
    {
     "name": "stderr",
     "output_type": "stream",
     "text": [
      "  1%|▏                            | 21136/2620883 [4:31:55<141:33:25,  5.10it/s]"
     ]
    },
    {
     "name": "stdout",
     "output_type": "stream",
     "text": [
      "Error occurred: ('Connection aborted.', ConnectionResetError(104, 'Connection reset by peer'))\n",
      "Error occurred: ('Connection aborted.', ConnectionResetError(104, 'Connection reset by peer'))\n",
      "Error occurred: ('Connection aborted.', ConnectionResetError(104, 'Connection reset by peer'))\n",
      "Error occurred: ('Connection aborted.', ConnectionResetError(104, 'Connection reset by peer'))\n"
     ]
    },
    {
     "name": "stderr",
     "output_type": "stream",
     "text": [
      "  1%|▏                             | 21140/2620883 [4:31:56<84:51:58,  8.51it/s]"
     ]
    },
    {
     "name": "stdout",
     "output_type": "stream",
     "text": [
      "Error occurred: ('Connection aborted.', ConnectionResetError(104, 'Connection reset by peer'))\n",
      "Error occurred: ('Connection aborted.', ConnectionResetError(104, 'Connection reset by peer'))\n",
      "Error occurred: ('Connection aborted.', ConnectionResetError(104, 'Connection reset by peer'))\n",
      "Error occurred: ('Connection aborted.', ConnectionResetError(104, 'Connection reset by peer'))\n"
     ]
    },
    {
     "name": "stderr",
     "output_type": "stream",
     "text": [
      "  1%|▏                             | 21145/2620883 [4:31:56<55:07:22, 13.10it/s]"
     ]
    },
    {
     "name": "stdout",
     "output_type": "stream",
     "text": [
      "Error occurred: ('Connection aborted.', ConnectionResetError(104, 'Connection reset by peer'))\n",
      "Error occurred: ('Connection aborted.', ConnectionResetError(104, 'Connection reset by peer'))\n",
      "Error occurred: ('Connection aborted.', ConnectionResetError(104, 'Connection reset by peer'))\n",
      "Error occurred: ('Connection aborted.', ConnectionResetError(104, 'Connection reset by peer'))\n",
      "Error occurred: ('Connection aborted.', ConnectionResetError(104, 'Connection reset by peer'))\n"
     ]
    },
    {
     "name": "stderr",
     "output_type": "stream",
     "text": [
      "  1%|▏                             | 21151/2620883 [4:31:56<41:42:44, 17.31it/s]"
     ]
    },
    {
     "name": "stdout",
     "output_type": "stream",
     "text": [
      "Error occurred: ('Connection aborted.', ConnectionResetError(104, 'Connection reset by peer'))\n",
      "Error occurred: ('Connection aborted.', ConnectionResetError(104, 'Connection reset by peer'))\n",
      "Error occurred: ('Connection aborted.', ConnectionResetError(104, 'Connection reset by peer'))\n",
      "Error occurred: ('Connection aborted.', ConnectionResetError(104, 'Connection reset by peer'))\n",
      "Error occurred: ('Connection aborted.', ConnectionResetError(104, 'Connection reset by peer'))\n"
     ]
    },
    {
     "name": "stderr",
     "output_type": "stream",
     "text": [
      "  1%|▏                             | 21154/2620883 [4:31:56<38:35:05, 18.72it/s]"
     ]
    },
    {
     "name": "stdout",
     "output_type": "stream",
     "text": [
      "Error occurred: ('Connection aborted.', ConnectionResetError(104, 'Connection reset by peer'))\n",
      "Error occurred: ('Connection aborted.', ConnectionResetError(104, 'Connection reset by peer'))\n",
      "Error occurred: ('Connection aborted.', ConnectionResetError(104, 'Connection reset by peer'))\n",
      "Error occurred: ('Connection aborted.', ConnectionResetError(104, 'Connection reset by peer'))\n",
      "Error occurred: ('Connection aborted.', ConnectionResetError(104, 'Connection reset by peer'))\n"
     ]
    },
    {
     "name": "stderr",
     "output_type": "stream",
     "text": [
      "  1%|▏                             | 21160/2620883 [4:31:57<35:04:37, 20.59it/s]"
     ]
    },
    {
     "name": "stdout",
     "output_type": "stream",
     "text": [
      "Error occurred: ('Connection aborted.', ConnectionResetError(104, 'Connection reset by peer'))\n",
      "Error occurred: ('Connection aborted.', ConnectionResetError(104, 'Connection reset by peer'))\n",
      "Error occurred: ('Connection aborted.', ConnectionResetError(104, 'Connection reset by peer'))\n",
      "Error occurred: ('Connection aborted.', ConnectionResetError(104, 'Connection reset by peer'))\n",
      "Error occurred: ('Connection aborted.', ConnectionResetError(104, 'Connection reset by peer'))\n"
     ]
    },
    {
     "name": "stderr",
     "output_type": "stream",
     "text": [
      "  1%|▏                             | 21166/2620883 [4:31:57<33:34:39, 21.51it/s]"
     ]
    },
    {
     "name": "stdout",
     "output_type": "stream",
     "text": [
      "Error occurred: ('Connection aborted.', ConnectionResetError(104, 'Connection reset by peer'))\n",
      "Error occurred: ('Connection aborted.', ConnectionResetError(104, 'Connection reset by peer'))\n",
      "Error occurred: ('Connection aborted.', ConnectionResetError(104, 'Connection reset by peer'))\n",
      "Error occurred: ('Connection aborted.', ConnectionResetError(104, 'Connection reset by peer'))\n",
      "Error occurred: ('Connection aborted.', ConnectionResetError(104, 'Connection reset by peer'))\n"
     ]
    },
    {
     "name": "stderr",
     "output_type": "stream",
     "text": [
      "  1%|▏                             | 21169/2620883 [4:31:57<33:03:58, 21.84it/s]"
     ]
    },
    {
     "name": "stdout",
     "output_type": "stream",
     "text": [
      "Error occurred: ('Connection aborted.', ConnectionResetError(104, 'Connection reset by peer'))\n",
      "Error occurred: ('Connection aborted.', ConnectionResetError(104, 'Connection reset by peer'))\n",
      "Error occurred: ('Connection aborted.', ConnectionResetError(104, 'Connection reset by peer'))\n",
      "Error occurred: ('Connection aborted.', ConnectionResetError(104, 'Connection reset by peer'))\n",
      "Error occurred: ('Connection aborted.', ConnectionResetError(104, 'Connection reset by peer'))\n"
     ]
    },
    {
     "name": "stderr",
     "output_type": "stream",
     "text": [
      "  1%|▏                             | 21175/2620883 [4:31:57<32:31:53, 22.20it/s]"
     ]
    },
    {
     "name": "stdout",
     "output_type": "stream",
     "text": [
      "Error occurred: ('Connection aborted.', ConnectionResetError(104, 'Connection reset by peer'))\n",
      "Error occurred: ('Connection aborted.', ConnectionResetError(104, 'Connection reset by peer'))\n",
      "Error occurred: ('Connection aborted.', ConnectionResetError(104, 'Connection reset by peer'))\n",
      "Error occurred: ('Connection aborted.', ConnectionResetError(104, 'Connection reset by peer'))\n"
     ]
    },
    {
     "name": "stderr",
     "output_type": "stream",
     "text": [
      "  1%|▎                            | 27879/2620883 [5:50:53<355:04:07,  2.03it/s]IOPub message rate exceeded.\n",
      "The Jupyter server will temporarily stop sending output\n",
      "to the client in order to avoid crashing it.\n",
      "To change this limit, set the config variable\n",
      "`--ServerApp.iopub_msg_rate_limit`.\n",
      "\n",
      "Current values:\n",
      "ServerApp.iopub_msg_rate_limit=1000.0 (msgs/sec)\n",
      "ServerApp.rate_limit_window=3.0 (secs)\n",
      "\n",
      "  2%|▌                            | 47200/2620883 [9:08:49<264:25:00,  2.70it/s]"
     ]
    },
    {
     "name": "stdout",
     "output_type": "stream",
     "text": [
      "Error occurred: (\"Connection broken: InvalidChunkLength(got length b'', 0 bytes read)\", InvalidChunkLength(got length b'', 0 bytes read))\n"
     ]
    },
    {
     "name": "stderr",
     "output_type": "stream",
     "text": [
      "  2%|▌                            | 50697/2620883 [9:39:27<238:46:37,  2.99it/s]"
     ]
    }
   ],
   "source": [
    "arks_month = pd.DataFrame()\n",
    "clean_arks_month = apply_with_progress(filtered_arks, lambda row: extract_metadata(row['Ark']), arks_month)"
   ]
  },
  {
   "cell_type": "code",
   "execution_count": null,
   "id": "9e3d1238-b572-415d-ae80-376c71bb3ad6",
   "metadata": {},
   "outputs": [],
   "source": [
    "# save the requested arks\n",
    "clean_arks_month.to_csv(\"arks_temp_month/arks_requested.csv\")"
   ]
  },
  {
   "cell_type": "markdown",
   "id": "98491f71-1c26-462f-8431-7201891ad29f",
   "metadata": {},
   "source": [
    "We now (hopefully) have all the arks and their associated type and theme. The next step will be to create user sessions and enrich them using these types and themes."
   ]
  },
  {
   "cell_type": "code",
   "execution_count": null,
   "id": "7628506e-d2a7-4963-9e8a-2f2504e362f2",
   "metadata": {},
   "outputs": [],
   "source": []
  }
 ],
 "metadata": {
  "kernelspec": {
   "display_name": "Python 3 (ipykernel)",
   "language": "python",
   "name": "python3"
  },
  "language_info": {
   "codemirror_mode": {
    "name": "ipython",
    "version": 3
   },
   "file_extension": ".py",
   "mimetype": "text/x-python",
   "name": "python",
   "nbconvert_exporter": "python",
   "pygments_lexer": "ipython3",
   "version": "3.10.13"
  }
 },
 "nbformat": 4,
 "nbformat_minor": 5
}
