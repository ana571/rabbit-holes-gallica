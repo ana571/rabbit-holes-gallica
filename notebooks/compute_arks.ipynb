{
 "cells": [
  {
   "cell_type": "code",
   "execution_count": 31,
   "id": "c187bb96-fd1a-49e4-bd9a-a8331880de8c",
   "metadata": {},
   "outputs": [],
   "source": [
    "# import relevant libraries\n",
    "import pandas as pd\n",
    "import requests\n",
    "from bs4 import BeautifulSoup\n",
    "from tqdm import tqdm"
   ]
  },
  {
   "cell_type": "markdown",
   "id": "97f154cc-6e85-4599-9b87-7b1c25de1aa8",
   "metadata": {},
   "source": [
    "If some arks were already computed, we load them."
   ]
  },
  {
   "cell_type": "code",
   "execution_count": 32,
   "id": "c6382eb2-8fe4-4bcb-9f8f-dbcb2bd4cd60",
   "metadata": {},
   "outputs": [],
   "source": [
    "# get list of unique arks\n",
    "unique_arks = pd.read_csv('arks_temp_month/final_arks_counts.csv', index_col=0)"
   ]
  },
  {
   "cell_type": "code",
   "execution_count": 33,
   "id": "32d2fc2e-e03d-446c-abce-acabc8fd9f50",
   "metadata": {
    "scrolled": true
   },
   "outputs": [
    {
     "data": {
      "text/html": [
       "<div>\n",
       "<style scoped>\n",
       "    .dataframe tbody tr th:only-of-type {\n",
       "        vertical-align: middle;\n",
       "    }\n",
       "\n",
       "    .dataframe tbody tr th {\n",
       "        vertical-align: top;\n",
       "    }\n",
       "\n",
       "    .dataframe thead th {\n",
       "        text-align: right;\n",
       "    }\n",
       "</style>\n",
       "<table border=\"1\" class=\"dataframe\">\n",
       "  <thead>\n",
       "    <tr style=\"text-align: right;\">\n",
       "      <th></th>\n",
       "      <th>Count</th>\n",
       "    </tr>\n",
       "    <tr>\n",
       "      <th>Ark</th>\n",
       "      <th></th>\n",
       "    </tr>\n",
       "  </thead>\n",
       "  <tbody>\n",
       "    <tr>\n",
       "      <th>%20%3Cmark%20class='highlightedText'%3Ebpt6k83791d%3C</th>\n",
       "      <td>1</td>\n",
       "    </tr>\n",
       "    <tr>\n",
       "      <th>%20bpt6k77855k</th>\n",
       "      <td>5</td>\n",
       "    </tr>\n",
       "    <tr>\n",
       "      <th>%20btv1b90073290</th>\n",
       "      <td>1</td>\n",
       "    </tr>\n",
       "    <tr>\n",
       "      <th>%22http</th>\n",
       "      <td>5</td>\n",
       "    </tr>\n",
       "    <tr>\n",
       "      <th>%22http:</th>\n",
       "      <td>3</td>\n",
       "    </tr>\n",
       "    <tr>\n",
       "      <th>...</th>\n",
       "      <td>...</td>\n",
       "    </tr>\n",
       "    <tr>\n",
       "      <th>zoomin_rest</th>\n",
       "      <td>1</td>\n",
       "    </tr>\n",
       "    <tr>\n",
       "      <th>zoomout_grouphover</th>\n",
       "      <td>1</td>\n",
       "    </tr>\n",
       "    <tr>\n",
       "      <th>zoomout_hover</th>\n",
       "      <td>1</td>\n",
       "    </tr>\n",
       "    <tr>\n",
       "      <th>zoomout_pressed</th>\n",
       "      <td>1</td>\n",
       "    </tr>\n",
       "    <tr>\n",
       "      <th>zoomout_rest</th>\n",
       "      <td>1</td>\n",
       "    </tr>\n",
       "  </tbody>\n",
       "</table>\n",
       "<p>1939409 rows × 1 columns</p>\n",
       "</div>"
      ],
      "text/plain": [
       "                                                    Count\n",
       "Ark                                                      \n",
       "%20%3Cmark%20class='highlightedText'%3Ebpt6k837...      1\n",
       "%20bpt6k77855k                                          5\n",
       "%20btv1b90073290                                        1\n",
       "%22http                                                 5\n",
       "%22http:                                                3\n",
       "...                                                   ...\n",
       "zoomin_rest                                             1\n",
       "zoomout_grouphover                                      1\n",
       "zoomout_hover                                           1\n",
       "zoomout_pressed                                         1\n",
       "zoomout_rest                                            1\n",
       "\n",
       "[1939409 rows x 1 columns]"
      ]
     },
     "execution_count": 33,
     "metadata": {},
     "output_type": "execute_result"
    }
   ],
   "source": [
    "unique_arks"
   ]
  },
  {
   "cell_type": "code",
   "execution_count": 34,
   "id": "8ba9f839-2359-436c-b284-eb3b04a0929d",
   "metadata": {},
   "outputs": [
    {
     "data": {
      "text/plain": [
       "1939409"
      ]
     },
     "execution_count": 34,
     "metadata": {},
     "output_type": "execute_result"
    }
   ],
   "source": [
    "len(unique_arks)"
   ]
  },
  {
   "cell_type": "code",
   "execution_count": 37,
   "id": "d7108c2f-8a0f-475b-b5c4-31cef7889472",
   "metadata": {},
   "outputs": [
    {
     "name": "stdout",
     "output_type": "stream",
     "text": [
      "458674\n",
      "150000\n",
      "180000\n",
      "720000\n",
      "270000\n",
      "30000\n",
      "150000\n"
     ]
    }
   ],
   "source": [
    "# get all arks that were already requested\n",
    "arks_already_requested1 = pd.read_csv(\"test_data/arks_final/arks_non_empty.csv\")\n",
    "print(len(arks_already_requested1))\n",
    "arks_already_requested2 = pd.read_csv(\"arks_temp_month/arks_batch_150000.csv\")\n",
    "print(len(arks_already_requested2))\n",
    "arks_already_requested3 = pd.read_csv(\"arks_temp_month/arks_batch2_180000.csv\")\n",
    "print(len(arks_already_requested3))\n",
    "arks_already_requested4 = pd.read_csv(\"arks_temp_month/arks_batch3_720000.csv\")\n",
    "print(len(arks_already_requested4))\n",
    "arks_already_requested5 = pd.read_csv(\"arks_temp_month/arks_batch4_270000.csv\")\n",
    "print(len(arks_already_requested5))\n",
    "arks_already_requested6 = pd.read_csv(\"arks_temp_month/arks_batch5_30000.csv\")\n",
    "print(len(arks_already_requested6))\n",
    "arks_already_requested7 = pd.read_csv(\"arks_temp_month/arks_batch6_120000.csv\")\n",
    "print(len(arks_already_requested2))"
   ]
  },
  {
   "cell_type": "code",
   "execution_count": 38,
   "id": "a44020c4-7099-47e9-ac2d-f4517d4b7ad8",
   "metadata": {},
   "outputs": [
    {
     "name": "stdout",
     "output_type": "stream",
     "text": [
      "1928674\n",
      "1806440\n"
     ]
    }
   ],
   "source": [
    "# concatenate into one df\n",
    "all_arks_already_requested = pd.concat([arks_already_requested1, arks_already_requested2, arks_already_requested3, \n",
    "                                        arks_already_requested4, arks_already_requested5, arks_already_requested6, arks_already_requested7])\n",
    "print(len(all_arks_already_requested))\n",
    "\n",
    "# remove duplicates\n",
    "all_arks = all_arks_already_requested.drop_duplicates()\n",
    "print(len(all_arks))"
   ]
  },
  {
   "cell_type": "code",
   "execution_count": 39,
   "id": "2d8b613d-1276-4425-ab06-2396fbcf37c5",
   "metadata": {},
   "outputs": [],
   "source": [
    "# remove potential empy arks\n",
    "filtered_all_arks = all_arks.dropna(subset=['Theme', 'Type'], how='all')\n",
    "filtered_all_arks = filtered_all_arks.drop(columns=['Unnamed: 0'])"
   ]
  },
  {
   "cell_type": "code",
   "execution_count": 40,
   "id": "5e82012e-053d-4774-bf13-e7ccf06c06bb",
   "metadata": {},
   "outputs": [
    {
     "data": {
      "text/html": [
       "<div>\n",
       "<style scoped>\n",
       "    .dataframe tbody tr th:only-of-type {\n",
       "        vertical-align: middle;\n",
       "    }\n",
       "\n",
       "    .dataframe tbody tr th {\n",
       "        vertical-align: top;\n",
       "    }\n",
       "\n",
       "    .dataframe thead th {\n",
       "        text-align: right;\n",
       "    }\n",
       "</style>\n",
       "<table border=\"1\" class=\"dataframe\">\n",
       "  <thead>\n",
       "    <tr style=\"text-align: right;\">\n",
       "      <th></th>\n",
       "      <th>Ark</th>\n",
       "      <th>Theme</th>\n",
       "      <th>Type</th>\n",
       "    </tr>\n",
       "  </thead>\n",
       "  <tbody>\n",
       "    <tr>\n",
       "      <th>0</th>\n",
       "      <td>btv1b8459670z</td>\n",
       "      <td>NaN</td>\n",
       "      <td>carte</td>\n",
       "    </tr>\n",
       "    <tr>\n",
       "      <th>1</th>\n",
       "      <td>btv1b59624343</td>\n",
       "      <td>NaN</td>\n",
       "      <td>carte</td>\n",
       "    </tr>\n",
       "    <tr>\n",
       "      <th>2</th>\n",
       "      <td>btv1b53036648q</td>\n",
       "      <td>NaN</td>\n",
       "      <td>carte</td>\n",
       "    </tr>\n",
       "    <tr>\n",
       "      <th>3</th>\n",
       "      <td>btv1b530395328</td>\n",
       "      <td>NaN</td>\n",
       "      <td>carte</td>\n",
       "    </tr>\n",
       "    <tr>\n",
       "      <th>4</th>\n",
       "      <td>btv1b5962468w</td>\n",
       "      <td>NaN</td>\n",
       "      <td>carte</td>\n",
       "    </tr>\n",
       "    <tr>\n",
       "      <th>...</th>\n",
       "      <td>...</td>\n",
       "      <td>...</td>\n",
       "      <td>...</td>\n",
       "    </tr>\n",
       "    <tr>\n",
       "      <th>119993</th>\n",
       "      <td>'bpt6k5745834w'</td>\n",
       "      <td>33.0</td>\n",
       "      <td>fascicule</td>\n",
       "    </tr>\n",
       "    <tr>\n",
       "      <th>119994</th>\n",
       "      <td>'bpt6k5822225m'</td>\n",
       "      <td>33.0</td>\n",
       "      <td>fascicule</td>\n",
       "    </tr>\n",
       "    <tr>\n",
       "      <th>119997</th>\n",
       "      <td>'btv1b90694071'</td>\n",
       "      <td>NaN</td>\n",
       "      <td>partition</td>\n",
       "    </tr>\n",
       "    <tr>\n",
       "      <th>119998</th>\n",
       "      <td>'bpt6k502837q'</td>\n",
       "      <td>7.0</td>\n",
       "      <td>fascicule</td>\n",
       "    </tr>\n",
       "    <tr>\n",
       "      <th>119999</th>\n",
       "      <td>'bpt6k62196440'</td>\n",
       "      <td>7.0</td>\n",
       "      <td>fascicule</td>\n",
       "    </tr>\n",
       "  </tbody>\n",
       "</table>\n",
       "<p>1651207 rows × 3 columns</p>\n",
       "</div>"
      ],
      "text/plain": [
       "                    Ark  Theme       Type\n",
       "0         btv1b8459670z    NaN      carte\n",
       "1         btv1b59624343    NaN      carte\n",
       "2        btv1b53036648q    NaN      carte\n",
       "3        btv1b530395328    NaN      carte\n",
       "4         btv1b5962468w    NaN      carte\n",
       "...                 ...    ...        ...\n",
       "119993  'bpt6k5745834w'   33.0  fascicule\n",
       "119994  'bpt6k5822225m'   33.0  fascicule\n",
       "119997  'btv1b90694071'    NaN  partition\n",
       "119998   'bpt6k502837q'    7.0  fascicule\n",
       "119999  'bpt6k62196440'    7.0  fascicule\n",
       "\n",
       "[1651207 rows x 3 columns]"
      ]
     },
     "execution_count": 40,
     "metadata": {},
     "output_type": "execute_result"
    }
   ],
   "source": [
    "filtered_all_arks"
   ]
  },
  {
   "cell_type": "code",
   "execution_count": 41,
   "id": "16369f1b-777a-46ca-a2c3-b1182c63e794",
   "metadata": {},
   "outputs": [
    {
     "data": {
      "text/plain": [
       "1584653"
      ]
     },
     "execution_count": 41,
     "metadata": {},
     "output_type": "execute_result"
    }
   ],
   "source": [
    "# drop potential duplicates\n",
    "filtered_all_arks = filtered_all_arks.drop_duplicates()\n",
    "len(filtered_all_arks)"
   ]
  },
  {
   "cell_type": "code",
   "execution_count": 22,
   "id": "d80e6842-5788-4aea-99ae-f5d022d46288",
   "metadata": {},
   "outputs": [],
   "source": [
    "# save the requested arks\n",
    "filtered_all_arks.to_csv(\"arks_final_month/arks_theme_type.csv\", index=False)"
   ]
  },
  {
   "cell_type": "markdown",
   "id": "8859e0b2-5d0e-4284-99c0-8639a8a6cd27",
   "metadata": {},
   "source": [
    "We want to request the arks that are needed to enrich our logs. This request is quite slow so we do it incrementally. We load the arks already requested, remove them from the list of arks to request and then perform the request."
   ]
  },
  {
   "cell_type": "code",
   "execution_count": null,
   "id": "6d9d1aee-d48e-4090-a801-3953eb5fcc10",
   "metadata": {},
   "outputs": [],
   "source": [
    "# load arks that were not requested\n",
    "arks_not_computed = pd.read_csv(\"data_temp_month/unique_arks/unique_arks_counts0.csv\")"
   ]
  },
  {
   "cell_type": "code",
   "execution_count": null,
   "id": "5f37f7fa-4c0b-4efa-ac5e-2cf1b0ff2b40",
   "metadata": {},
   "outputs": [],
   "source": [
    "# remove those already requested from those not computed\n",
    "arks_to_request = arks_not_computed[~arks_not_computed['Ark'].isin(filtered_all_arks['Ark'])]"
   ]
  },
  {
   "cell_type": "markdown",
   "id": "082c1e86-29fc-4eca-b2e1-847f05b2ae66",
   "metadata": {},
   "source": [
    "We can adapt this by repeating this step for other dataframes of arks that were already requested."
   ]
  },
  {
   "cell_type": "markdown",
   "id": "22155dc7-bd7a-4c81-b98e-4ebae7907793",
   "metadata": {},
   "source": [
    "Some arks may not be valid, we look at the head of the arks we want to request and if needed start at a certain index."
   ]
  },
  {
   "cell_type": "code",
   "execution_count": null,
   "id": "651638eb-66b2-4218-b196-6ec8ffa2801e",
   "metadata": {},
   "outputs": [],
   "source": [
    "arks_to_request.head(5)"
   ]
  },
  {
   "cell_type": "code",
   "execution_count": null,
   "id": "ba3cf32f-8165-46cb-9d47-6d7c7dea8d5b",
   "metadata": {},
   "outputs": [],
   "source": [
    "filtered_arks = arks_to_request[1:]"
   ]
  },
  {
   "cell_type": "markdown",
   "id": "cd575335-5b99-4aaf-86d1-f96121acb3c1",
   "metadata": {},
   "source": [
    "The arks enable us to request the metadata of the document they are related to to Gallica. From that, we will extract the theme of the document and its Dewey class, if there is one. Only printed documents and prints have Dewey classes."
   ]
  },
  {
   "cell_type": "code",
   "execution_count": 23,
   "id": "b04400f9-072d-41fe-96a1-91a39f0c685d",
   "metadata": {},
   "outputs": [],
   "source": [
    "# function for OAI request to Gallica\n",
    "def OAI(id):\n",
    "\n",
    "    OAI_BASEURL = 'https://gallica.bnf.fr/services/OAIRecord?ark='\n",
    "\n",
    "    url = \"\".join([OAI_BASEURL, id])\n",
    "\n",
    "    s = requests.get(url, stream=True)\n",
    "    soup = BeautifulSoup(s.content,\"lxml-xml\")\n",
    "    return soup\n",
    "\n",
    "# function to extract type and theme\n",
    "def extract_metadata(ark):\n",
    "    if ark == '-':\n",
    "        return ark, None, None\n",
    "    theme = ''\n",
    "    typedoc = ''\n",
    "    try:\n",
    "        oai_result = OAI(ark)\n",
    "        if oai_result is not None:\n",
    "            # extracting theme\n",
    "            sdewey_tag = oai_result.find(\"sdewey\")\n",
    "            if sdewey_tag:\n",
    "                theme = sdewey_tag.text\n",
    "        \n",
    "            # extracting typedoc\n",
    "            typedoc_tag = oai_result.find(\"typedoc\")\n",
    "            if typedoc_tag:\n",
    "                typedoc = typedoc_tag.text\n",
    "        \n",
    "    except Exception as e:\n",
    "        print(\"Error occurred:\", e)\n",
    "\n",
    "    return ark, theme, typedoc"
   ]
  },
  {
   "cell_type": "markdown",
   "id": "106ebb8a-d8f9-4e9b-809f-626f5365d75f",
   "metadata": {},
   "source": [
    "As the process takes a long time, we show a progress bar and save the result incrementally."
   ]
  },
  {
   "cell_type": "code",
   "execution_count": 36,
   "id": "33fa493f-fdf1-4724-8410-e50ae470ad4d",
   "metadata": {},
   "outputs": [],
   "source": [
    "# function to request the arks metadata, with a progress bar and saving batches to a folder\n",
    "def apply_with_progress(df, func, result_df, batch_size=30000, output_prefix='arks_temp_month/arks_batch'):\n",
    "    result = []\n",
    "    with tqdm(total=len(df)) as pbar:\n",
    "        for index, row in df.iterrows():\n",
    "            curr_result = func(row)\n",
    "            result.append(curr_result)\n",
    "            pbar.update(1)\n",
    "            \n",
    "            # save to CSV file every batch_size ARKs\n",
    "            if len(result) % batch_size == 0:\n",
    "                batch_df = pd.DataFrame(result, columns=['Ark', 'Theme', 'Type'])\n",
    "                batch_df.to_csv(f'{output_prefix}_{len(result)}.csv', index=False)\n",
    "    \n",
    "    return pd.DataFrame(result, columns=['Ark', 'Theme', 'Type'])"
   ]
  },
  {
   "cell_type": "code",
   "execution_count": null,
   "id": "e3f5291f-4955-45f8-8c0c-8dbe14c270d9",
   "metadata": {
    "scrolled": true
   },
   "outputs": [
    {
     "name": "stderr",
     "output_type": "stream",
     "text": [
      "  0%|                              | 5837/2620883 [1:10:58<401:59:50,  1.81it/s]"
     ]
    },
    {
     "name": "stdout",
     "output_type": "stream",
     "text": [
      "Error occurred: ('Connection aborted.', ConnectionResetError(104, 'Connection reset by peer'))\n",
      "Error occurred: ('Connection aborted.', ConnectionResetError(104, 'Connection reset by peer'))\n",
      "Error occurred: ('Connection aborted.', ConnectionResetError(104, 'Connection reset by peer'))\n"
     ]
    },
    {
     "name": "stderr",
     "output_type": "stream",
     "text": [
      "  0%|                              | 5841/2620883 [1:10:58<186:26:11,  3.90it/s]"
     ]
    },
    {
     "name": "stdout",
     "output_type": "stream",
     "text": [
      "Error occurred: ('Connection aborted.', ConnectionResetError(104, 'Connection reset by peer'))\n",
      "Error occurred: ('Connection aborted.', ConnectionResetError(104, 'Connection reset by peer'))\n",
      "Error occurred: ('Connection aborted.', ConnectionResetError(104, 'Connection reset by peer'))\n"
     ]
    },
    {
     "name": "stderr",
     "output_type": "stream",
     "text": [
      "  0%|                              | 5843/2620883 [1:10:58<141:38:35,  5.13it/s]"
     ]
    },
    {
     "name": "stdout",
     "output_type": "stream",
     "text": [
      "Error occurred: ('Connection aborted.', ConnectionResetError(104, 'Connection reset by peer'))\n",
      "Error occurred: ('Connection aborted.', ConnectionResetError(104, 'Connection reset by peer'))\n",
      "Error occurred: ('Connection aborted.', ConnectionResetError(104, 'Connection reset by peer'))\n"
     ]
    },
    {
     "name": "stderr",
     "output_type": "stream",
     "text": [
      "  0%|                              | 5845/2620883 [1:10:58<111:40:47,  6.50it/s]"
     ]
    },
    {
     "name": "stdout",
     "output_type": "stream",
     "text": [
      "Error occurred: ('Connection aborted.', ConnectionResetError(104, 'Connection reset by peer'))\n",
      "Error occurred: ('Connection aborted.', ConnectionResetError(104, 'Connection reset by peer'))\n"
     ]
    },
    {
     "name": "stderr",
     "output_type": "stream",
     "text": [
      "  0%|                              | 5849/2620883 [1:10:59<105:30:14,  6.89it/s]"
     ]
    },
    {
     "name": "stdout",
     "output_type": "stream",
     "text": [
      "Error occurred: ('Connection aborted.', ConnectionResetError(104, 'Connection reset by peer'))\n",
      "Error occurred: ('Connection aborted.', ConnectionResetError(104, 'Connection reset by peer'))\n",
      "Error occurred: ('Connection aborted.', ConnectionResetError(104, 'Connection reset by peer'))\n"
     ]
    },
    {
     "name": "stderr",
     "output_type": "stream",
     "text": [
      "  0%|                               | 5851/2620883 [1:10:59<89:04:22,  8.16it/s]"
     ]
    },
    {
     "name": "stdout",
     "output_type": "stream",
     "text": [
      "Error occurred: ('Connection aborted.', ConnectionResetError(104, 'Connection reset by peer'))\n",
      "Error occurred: ('Connection aborted.', ConnectionResetError(104, 'Connection reset by peer'))\n",
      "Error occurred: ('Connection aborted.', ConnectionResetError(104, 'Connection reset by peer'))\n"
     ]
    },
    {
     "name": "stderr",
     "output_type": "stream",
     "text": [
      "  0%|                               | 5855/2620883 [1:10:59<69:10:48, 10.50it/s]"
     ]
    },
    {
     "name": "stdout",
     "output_type": "stream",
     "text": [
      "Error occurred: ('Connection aborted.', ConnectionResetError(104, 'Connection reset by peer'))\n",
      "Error occurred: ('Connection aborted.', ConnectionResetError(104, 'Connection reset by peer'))\n",
      "Error occurred: ('Connection aborted.', ConnectionResetError(104, 'Connection reset by peer'))\n"
     ]
    },
    {
     "name": "stderr",
     "output_type": "stream",
     "text": [
      "  0%|                               | 5857/2620883 [1:10:59<63:39:05, 11.41it/s]"
     ]
    },
    {
     "name": "stdout",
     "output_type": "stream",
     "text": [
      "Error occurred: ('Connection aborted.', ConnectionResetError(104, 'Connection reset by peer'))\n",
      "Error occurred: ('Connection aborted.', ConnectionResetError(104, 'Connection reset by peer'))\n",
      "Error occurred: ('Connection aborted.', ConnectionResetError(104, 'Connection reset by peer'))\n"
     ]
    },
    {
     "name": "stderr",
     "output_type": "stream",
     "text": [
      "  0%|                               | 5861/2620883 [1:11:00<57:29:31, 12.63it/s]"
     ]
    },
    {
     "name": "stdout",
     "output_type": "stream",
     "text": [
      "Error occurred: ('Connection aborted.', ConnectionResetError(104, 'Connection reset by peer'))\n",
      "Error occurred: ('Connection aborted.', ConnectionResetError(104, 'Connection reset by peer'))\n",
      "Error occurred: ('Connection aborted.', ConnectionResetError(104, 'Connection reset by peer'))\n"
     ]
    },
    {
     "name": "stderr",
     "output_type": "stream",
     "text": [
      "  0%|                               | 5863/2620883 [1:11:00<56:06:55, 12.94it/s]"
     ]
    },
    {
     "name": "stdout",
     "output_type": "stream",
     "text": [
      "Error occurred: ('Connection aborted.', ConnectionResetError(104, 'Connection reset by peer'))\n",
      "Error occurred: ('Connection aborted.', ConnectionResetError(104, 'Connection reset by peer'))\n",
      "Error occurred: ('Connection aborted.', ConnectionResetError(104, 'Connection reset by peer'))\n"
     ]
    },
    {
     "name": "stderr",
     "output_type": "stream",
     "text": [
      "  0%|                               | 5867/2620883 [1:11:00<53:36:36, 13.55it/s]"
     ]
    },
    {
     "name": "stdout",
     "output_type": "stream",
     "text": [
      "Error occurred: ('Connection aborted.', ConnectionResetError(104, 'Connection reset by peer'))\n",
      "Error occurred: ('Connection aborted.', ConnectionResetError(104, 'Connection reset by peer'))\n",
      "Error occurred: ('Connection aborted.', ConnectionResetError(104, 'Connection reset by peer'))\n"
     ]
    },
    {
     "name": "stderr",
     "output_type": "stream",
     "text": [
      "  0%|                               | 5869/2620883 [1:11:00<55:42:13, 13.04it/s]"
     ]
    },
    {
     "name": "stdout",
     "output_type": "stream",
     "text": [
      "Error occurred: ('Connection aborted.', ConnectionResetError(104, 'Connection reset by peer'))\n"
     ]
    },
    {
     "name": "stderr",
     "output_type": "stream",
     "text": [
      "  1%|▏                            | 21129/2620883 [4:31:54<336:09:50,  2.15it/s]"
     ]
    },
    {
     "name": "stdout",
     "output_type": "stream",
     "text": [
      "Error occurred: ('Connection aborted.', RemoteDisconnected('Remote end closed connection without response'))\n"
     ]
    },
    {
     "name": "stderr",
     "output_type": "stream",
     "text": [
      "  1%|▏                            | 21132/2620883 [4:31:55<305:13:40,  2.37it/s]"
     ]
    },
    {
     "name": "stdout",
     "output_type": "stream",
     "text": [
      "Error occurred: ('Connection aborted.', ConnectionResetError(104, 'Connection reset by peer'))\n",
      "Error occurred: ('Connection aborted.', ConnectionResetError(104, 'Connection reset by peer'))\n",
      "Error occurred: ('Connection aborted.', ConnectionResetError(104, 'Connection reset by peer'))\n",
      "Error occurred: ('Connection aborted.', ConnectionResetError(104, 'Connection reset by peer'))\n"
     ]
    },
    {
     "name": "stderr",
     "output_type": "stream",
     "text": [
      "  1%|▏                            | 21136/2620883 [4:31:55<141:33:25,  5.10it/s]"
     ]
    },
    {
     "name": "stdout",
     "output_type": "stream",
     "text": [
      "Error occurred: ('Connection aborted.', ConnectionResetError(104, 'Connection reset by peer'))\n",
      "Error occurred: ('Connection aborted.', ConnectionResetError(104, 'Connection reset by peer'))\n",
      "Error occurred: ('Connection aborted.', ConnectionResetError(104, 'Connection reset by peer'))\n",
      "Error occurred: ('Connection aborted.', ConnectionResetError(104, 'Connection reset by peer'))\n"
     ]
    },
    {
     "name": "stderr",
     "output_type": "stream",
     "text": [
      "  1%|▏                             | 21140/2620883 [4:31:56<84:51:58,  8.51it/s]"
     ]
    },
    {
     "name": "stdout",
     "output_type": "stream",
     "text": [
      "Error occurred: ('Connection aborted.', ConnectionResetError(104, 'Connection reset by peer'))\n",
      "Error occurred: ('Connection aborted.', ConnectionResetError(104, 'Connection reset by peer'))\n",
      "Error occurred: ('Connection aborted.', ConnectionResetError(104, 'Connection reset by peer'))\n",
      "Error occurred: ('Connection aborted.', ConnectionResetError(104, 'Connection reset by peer'))\n"
     ]
    },
    {
     "name": "stderr",
     "output_type": "stream",
     "text": [
      "  1%|▏                             | 21145/2620883 [4:31:56<55:07:22, 13.10it/s]"
     ]
    },
    {
     "name": "stdout",
     "output_type": "stream",
     "text": [
      "Error occurred: ('Connection aborted.', ConnectionResetError(104, 'Connection reset by peer'))\n",
      "Error occurred: ('Connection aborted.', ConnectionResetError(104, 'Connection reset by peer'))\n",
      "Error occurred: ('Connection aborted.', ConnectionResetError(104, 'Connection reset by peer'))\n",
      "Error occurred: ('Connection aborted.', ConnectionResetError(104, 'Connection reset by peer'))\n",
      "Error occurred: ('Connection aborted.', ConnectionResetError(104, 'Connection reset by peer'))\n"
     ]
    },
    {
     "name": "stderr",
     "output_type": "stream",
     "text": [
      "  1%|▏                             | 21151/2620883 [4:31:56<41:42:44, 17.31it/s]"
     ]
    },
    {
     "name": "stdout",
     "output_type": "stream",
     "text": [
      "Error occurred: ('Connection aborted.', ConnectionResetError(104, 'Connection reset by peer'))\n",
      "Error occurred: ('Connection aborted.', ConnectionResetError(104, 'Connection reset by peer'))\n",
      "Error occurred: ('Connection aborted.', ConnectionResetError(104, 'Connection reset by peer'))\n",
      "Error occurred: ('Connection aborted.', ConnectionResetError(104, 'Connection reset by peer'))\n",
      "Error occurred: ('Connection aborted.', ConnectionResetError(104, 'Connection reset by peer'))\n"
     ]
    },
    {
     "name": "stderr",
     "output_type": "stream",
     "text": [
      "  1%|▏                             | 21154/2620883 [4:31:56<38:35:05, 18.72it/s]"
     ]
    },
    {
     "name": "stdout",
     "output_type": "stream",
     "text": [
      "Error occurred: ('Connection aborted.', ConnectionResetError(104, 'Connection reset by peer'))\n",
      "Error occurred: ('Connection aborted.', ConnectionResetError(104, 'Connection reset by peer'))\n",
      "Error occurred: ('Connection aborted.', ConnectionResetError(104, 'Connection reset by peer'))\n",
      "Error occurred: ('Connection aborted.', ConnectionResetError(104, 'Connection reset by peer'))\n",
      "Error occurred: ('Connection aborted.', ConnectionResetError(104, 'Connection reset by peer'))\n"
     ]
    },
    {
     "name": "stderr",
     "output_type": "stream",
     "text": [
      "  1%|▏                             | 21160/2620883 [4:31:57<35:04:37, 20.59it/s]"
     ]
    },
    {
     "name": "stdout",
     "output_type": "stream",
     "text": [
      "Error occurred: ('Connection aborted.', ConnectionResetError(104, 'Connection reset by peer'))\n",
      "Error occurred: ('Connection aborted.', ConnectionResetError(104, 'Connection reset by peer'))\n",
      "Error occurred: ('Connection aborted.', ConnectionResetError(104, 'Connection reset by peer'))\n",
      "Error occurred: ('Connection aborted.', ConnectionResetError(104, 'Connection reset by peer'))\n",
      "Error occurred: ('Connection aborted.', ConnectionResetError(104, 'Connection reset by peer'))\n"
     ]
    },
    {
     "name": "stderr",
     "output_type": "stream",
     "text": [
      "  1%|▏                             | 21166/2620883 [4:31:57<33:34:39, 21.51it/s]"
     ]
    },
    {
     "name": "stdout",
     "output_type": "stream",
     "text": [
      "Error occurred: ('Connection aborted.', ConnectionResetError(104, 'Connection reset by peer'))\n",
      "Error occurred: ('Connection aborted.', ConnectionResetError(104, 'Connection reset by peer'))\n",
      "Error occurred: ('Connection aborted.', ConnectionResetError(104, 'Connection reset by peer'))\n",
      "Error occurred: ('Connection aborted.', ConnectionResetError(104, 'Connection reset by peer'))\n",
      "Error occurred: ('Connection aborted.', ConnectionResetError(104, 'Connection reset by peer'))\n"
     ]
    },
    {
     "name": "stderr",
     "output_type": "stream",
     "text": [
      "  1%|▏                             | 21169/2620883 [4:31:57<33:03:58, 21.84it/s]"
     ]
    },
    {
     "name": "stdout",
     "output_type": "stream",
     "text": [
      "Error occurred: ('Connection aborted.', ConnectionResetError(104, 'Connection reset by peer'))\n",
      "Error occurred: ('Connection aborted.', ConnectionResetError(104, 'Connection reset by peer'))\n",
      "Error occurred: ('Connection aborted.', ConnectionResetError(104, 'Connection reset by peer'))\n",
      "Error occurred: ('Connection aborted.', ConnectionResetError(104, 'Connection reset by peer'))\n",
      "Error occurred: ('Connection aborted.', ConnectionResetError(104, 'Connection reset by peer'))\n"
     ]
    },
    {
     "name": "stderr",
     "output_type": "stream",
     "text": [
      "  1%|▏                             | 21175/2620883 [4:31:57<32:31:53, 22.20it/s]"
     ]
    },
    {
     "name": "stdout",
     "output_type": "stream",
     "text": [
      "Error occurred: ('Connection aborted.', ConnectionResetError(104, 'Connection reset by peer'))\n",
      "Error occurred: ('Connection aborted.', ConnectionResetError(104, 'Connection reset by peer'))\n",
      "Error occurred: ('Connection aborted.', ConnectionResetError(104, 'Connection reset by peer'))\n",
      "Error occurred: ('Connection aborted.', ConnectionResetError(104, 'Connection reset by peer'))\n"
     ]
    },
    {
     "name": "stderr",
     "output_type": "stream",
     "text": [
      "  1%|▎                            | 27879/2620883 [5:50:53<355:04:07,  2.03it/s]IOPub message rate exceeded.\n",
      "The Jupyter server will temporarily stop sending output\n",
      "to the client in order to avoid crashing it.\n",
      "To change this limit, set the config variable\n",
      "`--ServerApp.iopub_msg_rate_limit`.\n",
      "\n",
      "Current values:\n",
      "ServerApp.iopub_msg_rate_limit=1000.0 (msgs/sec)\n",
      "ServerApp.rate_limit_window=3.0 (secs)\n",
      "\n",
      "  2%|▌                            | 47200/2620883 [9:08:49<264:25:00,  2.70it/s]"
     ]
    },
    {
     "name": "stdout",
     "output_type": "stream",
     "text": [
      "Error occurred: (\"Connection broken: InvalidChunkLength(got length b'', 0 bytes read)\", InvalidChunkLength(got length b'', 0 bytes read))\n"
     ]
    },
    {
     "name": "stderr",
     "output_type": "stream",
     "text": [
      "  2%|▌                            | 50697/2620883 [9:39:27<238:46:37,  2.99it/s]"
     ]
    }
   ],
   "source": [
    "arks_month = pd.DataFrame()\n",
    "clean_arks_month = apply_with_progress(filtered_arks, lambda row: extract_metadata(row['Ark']), arks_month)"
   ]
  },
  {
   "cell_type": "code",
   "execution_count": null,
   "id": "9e3d1238-b572-415d-ae80-376c71bb3ad6",
   "metadata": {},
   "outputs": [],
   "source": [
    "# save the requested arks\n",
    "clean_arks_month.to_csv(\"arks_temp_month/arks_requested.csv\")"
   ]
  },
  {
   "cell_type": "markdown",
   "id": "98491f71-1c26-462f-8431-7201891ad29f",
   "metadata": {},
   "source": [
    "We now (hopefully) have all the arks and their associated type and theme. The next step will be to create user sessions and enrich them using these types and themes."
   ]
  },
  {
   "cell_type": "code",
   "execution_count": null,
   "id": "7628506e-d2a7-4963-9e8a-2f2504e362f2",
   "metadata": {},
   "outputs": [],
   "source": []
  }
 ],
 "metadata": {
  "kernelspec": {
   "display_name": "Python 3 (ipykernel)",
   "language": "python",
   "name": "python3"
  },
  "language_info": {
   "codemirror_mode": {
    "name": "ipython",
    "version": 3
   },
   "file_extension": ".py",
   "mimetype": "text/x-python",
   "name": "python",
   "nbconvert_exporter": "python",
   "pygments_lexer": "ipython3",
   "version": "3.10.13"
  }
 },
 "nbformat": 4,
 "nbformat_minor": 5
}
