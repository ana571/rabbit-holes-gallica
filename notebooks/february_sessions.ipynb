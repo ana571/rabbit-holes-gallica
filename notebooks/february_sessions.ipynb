{
 "cells": [
  {
   "cell_type": "code",
   "execution_count": 32,
   "id": "90884fbd",
   "metadata": {},
   "outputs": [],
   "source": [
    "import numpy as np\n",
    "import pandas as pd\n",
    "import matplotlib.pyplot as plt\n",
    "import gzip\n",
    "import os\n",
    "import glob\n",
    "import re"
   ]
  },
  {
   "cell_type": "code",
   "execution_count": 33,
   "id": "eaded33d",
   "metadata": {},
   "outputs": [
    {
     "name": "stdout",
     "output_type": "stream",
     "text": [
      "2201\n"
     ]
    }
   ],
   "source": [
    "folder_path = r'../../../lhstdata1/students/Gallica_logs/1LogGallicaFevrier2016'\n",
    "all_files = glob.glob(folder_path + \"/*.log.gz\")\n",
    "print(len(all_files))"
   ]
  },
  {
   "cell_type": "code",
   "execution_count": 34,
   "id": "b155a737",
   "metadata": {},
   "outputs": [],
   "source": [
    "all_files.sort(key=lambda f: int(re.sub('\\D', '', f)))"
   ]
  },
  {
   "cell_type": "code",
   "execution_count": 35,
   "id": "05dd18cd",
   "metadata": {},
   "outputs": [],
   "source": [
    "some_files = all_files[300:1000]"
   ]
  },
  {
   "cell_type": "code",
   "execution_count": 36,
   "id": "2848bbfd",
   "metadata": {},
   "outputs": [
    {
     "data": {
      "text/plain": [
       "700"
      ]
     },
     "execution_count": 36,
     "metadata": {},
     "output_type": "execute_result"
    }
   ],
   "source": [
    "len(some_files)"
   ]
  },
  {
   "cell_type": "code",
   "execution_count": 37,
   "id": "55a8a04e-4339-4842-8056-ed1c48fbc8f1",
   "metadata": {},
   "outputs": [],
   "source": [
    "df = pd.read_csv(all_files[0], sep='\\t', header=None)\n"
   ]
  },
  {
   "cell_type": "code",
   "execution_count": 38,
   "id": "63967893-9d84-43a1-8772-385681093e29",
   "metadata": {},
   "outputs": [
    {
     "data": {
      "text/plain": [
       "114722"
      ]
     },
     "execution_count": 38,
     "metadata": {},
     "output_type": "execute_result"
    }
   ],
   "source": [
    "len(df)"
   ]
  },
  {
   "cell_type": "code",
   "execution_count": 41,
   "id": "12e13712-d26b-4e57-a597-ce4806972b35",
   "metadata": {},
   "outputs": [
    {
     "data": {
      "text/plain": [
       "'##e7fdec50f50253f6796d61b5382155f8##null##null##- - [31/Jan/2016:18:59:19 +0100] \"GET /ark:/12148/bpt6k70211m HTTP/1.0\" 200 24552 \"-\" \"-\" 48652'"
      ]
     },
     "execution_count": 41,
     "metadata": {},
     "output_type": "execute_result"
    }
   ],
   "source": [
    "df[0][0]"
   ]
  },
  {
   "cell_type": "code",
   "execution_count": 42,
   "id": "89119e43-2e77-40ca-96de-2da7014a4f77",
   "metadata": {},
   "outputs": [
    {
     "data": {
      "text/plain": [
       "'##5d1edaaaa9cf4772ce828127ce3e523a##United States##Chapel Hill##- - [31/Jan/2016:18:59:20 +0100] \"GET /ark:/12148/bpt6k622723.planchecontact.r=etteilla.f1.langEN HTTP/1.1\" 200 19186 \"-\" \"Mozilla/5.0 (Macintosh; Intel Mac OS X 10_8_5) AppleWebKit/537.36 (KHTML, like Gecko) Chrome/47.0.2526.111 Safari/537.36\" 1201281'"
      ]
     },
     "execution_count": 42,
     "metadata": {},
     "output_type": "execute_result"
    }
   ],
   "source": [
    "df[0][1]"
   ]
  },
  {
   "cell_type": "markdown",
   "id": "38e137cc-6441-4b39-8295-fdaedd82303d",
   "metadata": {},
   "source": [
    "# Structure :\n",
    "'##' then IP address\n",
    "\n",
    "'##' then country (or null)\n",
    "\n",
    "'##' then city (or null)\n",
    "\n",
    "'##--' then date\n",
    "\n",
    "nothing, then HTTP request in quotes, with the protocol number\n",
    "followed by number of response (200 = OK), then size, then referrer website (or '-' if unknown)"
   ]
  },
  {
   "cell_type": "code",
   "execution_count": 43,
   "id": "cfa9c655",
   "metadata": {},
   "outputs": [],
   "source": [
    "# empty df to store concatenation\n",
    "dfs = []\n",
    "\n",
    "for f in some_files:\n",
    "    try:\n",
    "        # read csv file into df\n",
    "        df = pd.read_csv(f, encoding='UTF-8', sep ='\\t', engine='python', header=None)\n",
    "        # append to list of dfs\n",
    "        dfs.append(df)\n",
    "    except Exception as e:\n",
    "        print(f\"Error loading file {f}: {e}\")\n",
    "\n",
    "#from the list, concatenate the dataframes into a single one\n",
    "combined_df = pd.concat(dfs, ignore_index=True)"
   ]
  },
  {
   "cell_type": "code",
   "execution_count": 44,
   "id": "d21feed6",
   "metadata": {},
   "outputs": [
    {
     "data": {
      "text/plain": [
       "(98167550, 1)"
      ]
     },
     "execution_count": 44,
     "metadata": {},
     "output_type": "execute_result"
    }
   ],
   "source": [
    "combined_df.shape"
   ]
  },
  {
   "cell_type": "code",
   "execution_count": 45,
   "id": "b9cd65e2-4c9f-4a46-a8c4-48a3f483f8cf",
   "metadata": {},
   "outputs": [],
   "source": [
    "#split the logs and put them in columns\n",
    "lines_df = combined_df[0].str.split('##', expand=True)"
   ]
  },
  {
   "cell_type": "code",
   "execution_count": 46,
   "id": "81f2c01b-e377-4b24-b43c-5194c9c999e5",
   "metadata": {},
   "outputs": [
    {
     "data": {
      "text/html": [
       "<div>\n",
       "<style scoped>\n",
       "    .dataframe tbody tr th:only-of-type {\n",
       "        vertical-align: middle;\n",
       "    }\n",
       "\n",
       "    .dataframe tbody tr th {\n",
       "        vertical-align: top;\n",
       "    }\n",
       "\n",
       "    .dataframe thead th {\n",
       "        text-align: right;\n",
       "    }\n",
       "</style>\n",
       "<table border=\"1\" class=\"dataframe\">\n",
       "  <thead>\n",
       "    <tr style=\"text-align: right;\">\n",
       "      <th></th>\n",
       "      <th>0</th>\n",
       "      <th>1</th>\n",
       "      <th>2</th>\n",
       "      <th>3</th>\n",
       "      <th>4</th>\n",
       "    </tr>\n",
       "  </thead>\n",
       "  <tbody>\n",
       "    <tr>\n",
       "      <th>0</th>\n",
       "      <td></td>\n",
       "      <td>6fb861a2dcda718f3e56fb984234fc32</td>\n",
       "      <td>Algeria</td>\n",
       "      <td>null</td>\n",
       "      <td>- - [04/Feb/2016:00:59:58 +0100] \"GET /service...</td>\n",
       "    </tr>\n",
       "    <tr>\n",
       "      <th>1</th>\n",
       "      <td></td>\n",
       "      <td>5a3ac648814b7afbc68c531b8402378b</td>\n",
       "      <td>Russia</td>\n",
       "      <td>null</td>\n",
       "      <td>- - [04/Feb/2016:00:59:59 +0100] \"GET /ark:/12...</td>\n",
       "    </tr>\n",
       "    <tr>\n",
       "      <th>2</th>\n",
       "      <td></td>\n",
       "      <td>e74fe2c139b2e2c27cab51b178497085</td>\n",
       "      <td>France</td>\n",
       "      <td>Fargues-Saint-Hilaire</td>\n",
       "      <td>- - [04/Feb/2016:00:59:58 +0100] \"GET /proxy?...</td>\n",
       "    </tr>\n",
       "    <tr>\n",
       "      <th>3</th>\n",
       "      <td></td>\n",
       "      <td>e74fe2c139b2e2c27cab51b178497085</td>\n",
       "      <td>France</td>\n",
       "      <td>Fargues-Saint-Hilaire</td>\n",
       "      <td>- - [04/Feb/2016:00:59:58 +0100] \"GET /proxy?...</td>\n",
       "    </tr>\n",
       "    <tr>\n",
       "      <th>4</th>\n",
       "      <td></td>\n",
       "      <td>5a3ac648814b7afbc68c531b8402378b</td>\n",
       "      <td>Russia</td>\n",
       "      <td>null</td>\n",
       "      <td>- - [04/Feb/2016:01:00:01 +0100] \"GET /ark:/12...</td>\n",
       "    </tr>\n",
       "  </tbody>\n",
       "</table>\n",
       "</div>"
      ],
      "text/plain": [
       "  0                                 1        2                      3  \\\n",
       "0    6fb861a2dcda718f3e56fb984234fc32  Algeria                   null   \n",
       "1    5a3ac648814b7afbc68c531b8402378b   Russia                   null   \n",
       "2    e74fe2c139b2e2c27cab51b178497085   France  Fargues-Saint-Hilaire   \n",
       "3    e74fe2c139b2e2c27cab51b178497085   France  Fargues-Saint-Hilaire   \n",
       "4    5a3ac648814b7afbc68c531b8402378b   Russia                   null   \n",
       "\n",
       "                                                   4  \n",
       "0  - - [04/Feb/2016:00:59:58 +0100] \"GET /service...  \n",
       "1  - - [04/Feb/2016:00:59:59 +0100] \"GET /ark:/12...  \n",
       "2   - - [04/Feb/2016:00:59:58 +0100] \"GET /proxy?...  \n",
       "3   - - [04/Feb/2016:00:59:58 +0100] \"GET /proxy?...  \n",
       "4  - - [04/Feb/2016:01:00:01 +0100] \"GET /ark:/12...  "
      ]
     },
     "execution_count": 46,
     "metadata": {},
     "output_type": "execute_result"
    }
   ],
   "source": [
    "lines_df.head()"
   ]
  },
  {
   "cell_type": "code",
   "execution_count": 49,
   "id": "a6fb5ff3-c759-49fe-bcd3-e3422f2aa0b1",
   "metadata": {},
   "outputs": [],
   "source": [
    "# extracting date\n",
    "temp = pd.DataFrame()\n",
    "temp['Date'] = lines_df.apply(lambda x: x[4].split(\"]\")[0].split(\"[\")[1], axis=1)"
   ]
  },
  {
   "cell_type": "code",
   "execution_count": 51,
   "id": "42f9d6ac-33dc-457b-a6c2-74e4cdea1027",
   "metadata": {},
   "outputs": [],
   "source": [
    "# referrer\n",
    "temp['Referrer'] = lines_df.apply(lambda x: x[4].split(\"\\\"\")[3], axis=1)"
   ]
  },
  {
   "cell_type": "code",
   "execution_count": 52,
   "id": "c79235c2-e072-4ff0-8908-d2f2f9b5ae67",
   "metadata": {},
   "outputs": [
    {
     "data": {
      "text/html": [
       "<div>\n",
       "<style scoped>\n",
       "    .dataframe tbody tr th:only-of-type {\n",
       "        vertical-align: middle;\n",
       "    }\n",
       "\n",
       "    .dataframe tbody tr th {\n",
       "        vertical-align: top;\n",
       "    }\n",
       "\n",
       "    .dataframe thead th {\n",
       "        text-align: right;\n",
       "    }\n",
       "</style>\n",
       "<table border=\"1\" class=\"dataframe\">\n",
       "  <thead>\n",
       "    <tr style=\"text-align: right;\">\n",
       "      <th></th>\n",
       "      <th>Date</th>\n",
       "      <th>Referrer</th>\n",
       "    </tr>\n",
       "  </thead>\n",
       "  <tbody>\n",
       "    <tr>\n",
       "      <th>0</th>\n",
       "      <td>04/Feb/2016:00:59:58 +0100</td>\n",
       "      <td>http://gallica.bnf.fr/ark:/12148/bpt6k83289g.r...</td>\n",
       "    </tr>\n",
       "    <tr>\n",
       "      <th>1</th>\n",
       "      <td>04/Feb/2016:00:59:59 +0100</td>\n",
       "      <td>-</td>\n",
       "    </tr>\n",
       "    <tr>\n",
       "      <th>2</th>\n",
       "      <td>04/Feb/2016:00:59:58 +0100</td>\n",
       "      <td>-</td>\n",
       "    </tr>\n",
       "    <tr>\n",
       "      <th>3</th>\n",
       "      <td>04/Feb/2016:00:59:58 +0100</td>\n",
       "      <td>-</td>\n",
       "    </tr>\n",
       "    <tr>\n",
       "      <th>4</th>\n",
       "      <td>04/Feb/2016:01:00:01 +0100</td>\n",
       "      <td>-</td>\n",
       "    </tr>\n",
       "    <tr>\n",
       "      <th>...</th>\n",
       "      <td>...</td>\n",
       "      <td>...</td>\n",
       "    </tr>\n",
       "    <tr>\n",
       "      <th>98167545</th>\n",
       "      <td>13/Feb/2016:05:34:53 +0100</td>\n",
       "      <td>-</td>\n",
       "    </tr>\n",
       "    <tr>\n",
       "      <th>98167546</th>\n",
       "      <td>13/Feb/2016:05:34:54 +0100</td>\n",
       "      <td>http://gallica.bnf.fr/services/engine/search/s...</td>\n",
       "    </tr>\n",
       "    <tr>\n",
       "      <th>98167547</th>\n",
       "      <td>13/Feb/2016:05:34:55 +0100</td>\n",
       "      <td>http://gallica.bnf.fr/services/engine/search/s...</td>\n",
       "    </tr>\n",
       "    <tr>\n",
       "      <th>98167548</th>\n",
       "      <td>13/Feb/2016:05:34:55 +0100</td>\n",
       "      <td>-</td>\n",
       "    </tr>\n",
       "    <tr>\n",
       "      <th>98167549</th>\n",
       "      <td>13/Feb/2016:05:35:09 +0100</td>\n",
       "      <td>-</td>\n",
       "    </tr>\n",
       "  </tbody>\n",
       "</table>\n",
       "<p>98167550 rows × 2 columns</p>\n",
       "</div>"
      ],
      "text/plain": [
       "                                Date  \\\n",
       "0         04/Feb/2016:00:59:58 +0100   \n",
       "1         04/Feb/2016:00:59:59 +0100   \n",
       "2         04/Feb/2016:00:59:58 +0100   \n",
       "3         04/Feb/2016:00:59:58 +0100   \n",
       "4         04/Feb/2016:01:00:01 +0100   \n",
       "...                              ...   \n",
       "98167545  13/Feb/2016:05:34:53 +0100   \n",
       "98167546  13/Feb/2016:05:34:54 +0100   \n",
       "98167547  13/Feb/2016:05:34:55 +0100   \n",
       "98167548  13/Feb/2016:05:34:55 +0100   \n",
       "98167549  13/Feb/2016:05:35:09 +0100   \n",
       "\n",
       "                                                   Referrer  \n",
       "0         http://gallica.bnf.fr/ark:/12148/bpt6k83289g.r...  \n",
       "1                                                         -  \n",
       "2                                                         -  \n",
       "3                                                         -  \n",
       "4                                                         -  \n",
       "...                                                     ...  \n",
       "98167545                                                  -  \n",
       "98167546  http://gallica.bnf.fr/services/engine/search/s...  \n",
       "98167547  http://gallica.bnf.fr/services/engine/search/s...  \n",
       "98167548                                                  -  \n",
       "98167549                                                  -  \n",
       "\n",
       "[98167550 rows x 2 columns]"
      ]
     },
     "execution_count": 52,
     "metadata": {},
     "output_type": "execute_result"
    }
   ],
   "source": [
    "temp"
   ]
  },
  {
   "cell_type": "code",
   "execution_count": 53,
   "id": "92b9e815-f4fc-4417-ac91-3a10fde70d60",
   "metadata": {},
   "outputs": [
    {
     "name": "stdout",
     "output_type": "stream",
     "text": [
      "14.668873777536467\n"
     ]
    }
   ],
   "source": [
    "nb_unknown_referrer = temp['Referrer'].value_counts()['-']\n",
    "percentage_unknown_referrer = nb_unknown_referrer/len(temp) * 100\n",
    "print(percentage_unknown_referrer)"
   ]
  },
  {
   "cell_type": "code",
   "execution_count": 54,
   "id": "5b758b79-8a34-40b7-832e-569760056e0e",
   "metadata": {},
   "outputs": [],
   "source": [
    "#extract request\n",
    "temp['Request'] = lines_df.apply(lambda x: ' '.join(x[4].split(\"\\\"\")[1].split(' ')[:2]), axis=1)"
   ]
  },
  {
   "cell_type": "code",
   "execution_count": 55,
   "id": "f4791cad-d291-4519-8a21-2e40bb16dadc",
   "metadata": {},
   "outputs": [],
   "source": [
    "#extract ark\n",
    "#fct to check if request contains ark\n",
    "def extract_ark(request):\n",
    "    # capture everything between 12148 and / or between 12148 and . using regex -  the assigning authority number for Gallica\n",
    "    ark = '-'\n",
    "    ark = re.findall('(?<=12148/).+?(?=/)|(?<=12148/).+?(?=\\.)', request)\n",
    "    return ark\n",
    "\n",
    "\n",
    "temp['Ark'] = temp.apply(lambda x: extract_ark(x['Request']), axis=1)\n",
    "    \n"
   ]
  },
  {
   "cell_type": "code",
   "execution_count": 56,
   "id": "0f5cb516-e974-4b08-ab0b-2b8a50b1b749",
   "metadata": {},
   "outputs": [],
   "source": [
    "lines_df = lines_df.rename(columns = {1:\"IPaddress\", 2:\"Country\", 3:\"City\", 4:\"Full_request\"})"
   ]
  },
  {
   "cell_type": "code",
   "execution_count": 57,
   "id": "15c854ae-f1c1-46cf-ba17-d1ab543885d7",
   "metadata": {},
   "outputs": [],
   "source": [
    "final_df = pd.concat([lines_df, temp], axis=1)"
   ]
  },
  {
   "cell_type": "code",
   "execution_count": 58,
   "id": "d0e72df2-4c28-4a98-9967-d602014d38eb",
   "metadata": {},
   "outputs": [
    {
     "data": {
      "text/html": [
       "<div>\n",
       "<style scoped>\n",
       "    .dataframe tbody tr th:only-of-type {\n",
       "        vertical-align: middle;\n",
       "    }\n",
       "\n",
       "    .dataframe tbody tr th {\n",
       "        vertical-align: top;\n",
       "    }\n",
       "\n",
       "    .dataframe thead th {\n",
       "        text-align: right;\n",
       "    }\n",
       "</style>\n",
       "<table border=\"1\" class=\"dataframe\">\n",
       "  <thead>\n",
       "    <tr style=\"text-align: right;\">\n",
       "      <th></th>\n",
       "      <th>0</th>\n",
       "      <th>IPaddress</th>\n",
       "      <th>Country</th>\n",
       "      <th>City</th>\n",
       "      <th>Full_request</th>\n",
       "      <th>Date</th>\n",
       "      <th>Referrer</th>\n",
       "      <th>Request</th>\n",
       "      <th>Ark</th>\n",
       "    </tr>\n",
       "  </thead>\n",
       "  <tbody>\n",
       "    <tr>\n",
       "      <th>0</th>\n",
       "      <td></td>\n",
       "      <td>6fb861a2dcda718f3e56fb984234fc32</td>\n",
       "      <td>Algeria</td>\n",
       "      <td>null</td>\n",
       "      <td>- - [04/Feb/2016:00:59:58 +0100] \"GET /service...</td>\n",
       "      <td>04/Feb/2016:00:59:58 +0100</td>\n",
       "      <td>http://gallica.bnf.fr/ark:/12148/bpt6k83289g.r...</td>\n",
       "      <td>GET /services/engine/search/sru?operation=sear...</td>\n",
       "      <td>[]</td>\n",
       "    </tr>\n",
       "    <tr>\n",
       "      <th>1</th>\n",
       "      <td></td>\n",
       "      <td>5a3ac648814b7afbc68c531b8402378b</td>\n",
       "      <td>Russia</td>\n",
       "      <td>null</td>\n",
       "      <td>- - [04/Feb/2016:00:59:59 +0100] \"GET /ark:/12...</td>\n",
       "      <td>04/Feb/2016:00:59:59 +0100</td>\n",
       "      <td>-</td>\n",
       "      <td>GET /ark:/12148/bpt6k116584w.thumbnail</td>\n",
       "      <td>[bpt6k116584w]</td>\n",
       "    </tr>\n",
       "    <tr>\n",
       "      <th>2</th>\n",
       "      <td></td>\n",
       "      <td>e74fe2c139b2e2c27cab51b178497085</td>\n",
       "      <td>France</td>\n",
       "      <td>Fargues-Saint-Hilaire</td>\n",
       "      <td>- - [04/Feb/2016:00:59:58 +0100] \"GET /proxy?...</td>\n",
       "      <td>04/Feb/2016:00:59:58 +0100</td>\n",
       "      <td>-</td>\n",
       "      <td>GET /proxy?method=R&amp;ark=bpt6k1121835.f148&amp;l=0&amp;...</td>\n",
       "      <td>[]</td>\n",
       "    </tr>\n",
       "    <tr>\n",
       "      <th>3</th>\n",
       "      <td></td>\n",
       "      <td>e74fe2c139b2e2c27cab51b178497085</td>\n",
       "      <td>France</td>\n",
       "      <td>Fargues-Saint-Hilaire</td>\n",
       "      <td>- - [04/Feb/2016:00:59:58 +0100] \"GET /proxy?...</td>\n",
       "      <td>04/Feb/2016:00:59:58 +0100</td>\n",
       "      <td>-</td>\n",
       "      <td>GET /proxy?method=R&amp;ark=bpt6k1121835.f147&amp;l=-1...</td>\n",
       "      <td>[]</td>\n",
       "    </tr>\n",
       "    <tr>\n",
       "      <th>4</th>\n",
       "      <td></td>\n",
       "      <td>5a3ac648814b7afbc68c531b8402378b</td>\n",
       "      <td>Russia</td>\n",
       "      <td>null</td>\n",
       "      <td>- - [04/Feb/2016:01:00:01 +0100] \"GET /ark:/12...</td>\n",
       "      <td>04/Feb/2016:01:00:01 +0100</td>\n",
       "      <td>-</td>\n",
       "      <td>GET /ark:/12148/bpt6k77157b.thumbnail</td>\n",
       "      <td>[bpt6k77157b]</td>\n",
       "    </tr>\n",
       "    <tr>\n",
       "      <th>...</th>\n",
       "      <td>...</td>\n",
       "      <td>...</td>\n",
       "      <td>...</td>\n",
       "      <td>...</td>\n",
       "      <td>...</td>\n",
       "      <td>...</td>\n",
       "      <td>...</td>\n",
       "      <td>...</td>\n",
       "      <td>...</td>\n",
       "    </tr>\n",
       "    <tr>\n",
       "      <th>98167545</th>\n",
       "      <td></td>\n",
       "      <td>e74feca46ad927c9132f15deaa66402</td>\n",
       "      <td>United States</td>\n",
       "      <td>Chicago</td>\n",
       "      <td>- - [13/Feb/2016:05:34:53 +0100] \"GET //iiif/a...</td>\n",
       "      <td>13/Feb/2016:05:34:53 +0100</td>\n",
       "      <td>-</td>\n",
       "      <td>GET //iiif/ark:/12148/bpt6k215245w/f1/full/174...</td>\n",
       "      <td>[bpt6k215245w]</td>\n",
       "    </tr>\n",
       "    <tr>\n",
       "      <th>98167546</th>\n",
       "      <td></td>\n",
       "      <td>e26bd5ebbd2011fc113f40a1756fd599</td>\n",
       "      <td>United States</td>\n",
       "      <td>Boston</td>\n",
       "      <td>- - [13/Feb/2016:05:34:54 +0100] \"GET /service...</td>\n",
       "      <td>13/Feb/2016:05:34:54 +0100</td>\n",
       "      <td>http://gallica.bnf.fr/services/engine/search/s...</td>\n",
       "      <td>GET /services/ajax/extract/ark:/12148/bpt6k651...</td>\n",
       "      <td>[bpt6k6510332p]</td>\n",
       "    </tr>\n",
       "    <tr>\n",
       "      <th>98167547</th>\n",
       "      <td></td>\n",
       "      <td>e26bd5ebbd2011fc113f40a1756fd599</td>\n",
       "      <td>United States</td>\n",
       "      <td>Boston</td>\n",
       "      <td>- - [13/Feb/2016:05:34:55 +0100] \"GET /service...</td>\n",
       "      <td>13/Feb/2016:05:34:55 +0100</td>\n",
       "      <td>http://gallica.bnf.fr/services/engine/search/s...</td>\n",
       "      <td>GET /services/ajax/extract/ark:/12148/bpt6k567...</td>\n",
       "      <td>[bpt6k5677637n]</td>\n",
       "    </tr>\n",
       "    <tr>\n",
       "      <th>98167548</th>\n",
       "      <td></td>\n",
       "      <td>e74feca46ad927c9132f15deaa66402</td>\n",
       "      <td>United States</td>\n",
       "      <td>Chicago</td>\n",
       "      <td>- - [13/Feb/2016:05:34:55 +0100] \"GET //iiif/a...</td>\n",
       "      <td>13/Feb/2016:05:34:55 +0100</td>\n",
       "      <td>-</td>\n",
       "      <td>GET //iiif/ark:/12148/bpt6k56745826/f373/full/...</td>\n",
       "      <td>[bpt6k56745826]</td>\n",
       "    </tr>\n",
       "    <tr>\n",
       "      <th>98167549</th>\n",
       "      <td></td>\n",
       "      <td>e74feca46ad927c9132f15deaa66402</td>\n",
       "      <td>United States</td>\n",
       "      <td>Chicago</td>\n",
       "      <td>- - [13/Feb/2016:05:35:09 +0100] \"GET //iiif/a...</td>\n",
       "      <td>13/Feb/2016:05:35:09 +0100</td>\n",
       "      <td>-</td>\n",
       "      <td>GET //iiif/ark:/12148/bpt6k2152167/f162/full/1...</td>\n",
       "      <td>[bpt6k2152167]</td>\n",
       "    </tr>\n",
       "  </tbody>\n",
       "</table>\n",
       "<p>98167550 rows × 9 columns</p>\n",
       "</div>"
      ],
      "text/plain": [
       "         0                          IPaddress        Country  \\\n",
       "0            6fb861a2dcda718f3e56fb984234fc32        Algeria   \n",
       "1            5a3ac648814b7afbc68c531b8402378b         Russia   \n",
       "2            e74fe2c139b2e2c27cab51b178497085         France   \n",
       "3            e74fe2c139b2e2c27cab51b178497085         France   \n",
       "4            5a3ac648814b7afbc68c531b8402378b         Russia   \n",
       "...      ..                               ...            ...   \n",
       "98167545      e74feca46ad927c9132f15deaa66402  United States   \n",
       "98167546     e26bd5ebbd2011fc113f40a1756fd599  United States   \n",
       "98167547     e26bd5ebbd2011fc113f40a1756fd599  United States   \n",
       "98167548      e74feca46ad927c9132f15deaa66402  United States   \n",
       "98167549      e74feca46ad927c9132f15deaa66402  United States   \n",
       "\n",
       "                           City  \\\n",
       "0                          null   \n",
       "1                          null   \n",
       "2         Fargues-Saint-Hilaire   \n",
       "3         Fargues-Saint-Hilaire   \n",
       "4                          null   \n",
       "...                         ...   \n",
       "98167545                Chicago   \n",
       "98167546                 Boston   \n",
       "98167547                 Boston   \n",
       "98167548                Chicago   \n",
       "98167549                Chicago   \n",
       "\n",
       "                                               Full_request  \\\n",
       "0         - - [04/Feb/2016:00:59:58 +0100] \"GET /service...   \n",
       "1         - - [04/Feb/2016:00:59:59 +0100] \"GET /ark:/12...   \n",
       "2          - - [04/Feb/2016:00:59:58 +0100] \"GET /proxy?...   \n",
       "3          - - [04/Feb/2016:00:59:58 +0100] \"GET /proxy?...   \n",
       "4         - - [04/Feb/2016:01:00:01 +0100] \"GET /ark:/12...   \n",
       "...                                                     ...   \n",
       "98167545  - - [13/Feb/2016:05:34:53 +0100] \"GET //iiif/a...   \n",
       "98167546  - - [13/Feb/2016:05:34:54 +0100] \"GET /service...   \n",
       "98167547  - - [13/Feb/2016:05:34:55 +0100] \"GET /service...   \n",
       "98167548  - - [13/Feb/2016:05:34:55 +0100] \"GET //iiif/a...   \n",
       "98167549  - - [13/Feb/2016:05:35:09 +0100] \"GET //iiif/a...   \n",
       "\n",
       "                                Date  \\\n",
       "0         04/Feb/2016:00:59:58 +0100   \n",
       "1         04/Feb/2016:00:59:59 +0100   \n",
       "2         04/Feb/2016:00:59:58 +0100   \n",
       "3         04/Feb/2016:00:59:58 +0100   \n",
       "4         04/Feb/2016:01:00:01 +0100   \n",
       "...                              ...   \n",
       "98167545  13/Feb/2016:05:34:53 +0100   \n",
       "98167546  13/Feb/2016:05:34:54 +0100   \n",
       "98167547  13/Feb/2016:05:34:55 +0100   \n",
       "98167548  13/Feb/2016:05:34:55 +0100   \n",
       "98167549  13/Feb/2016:05:35:09 +0100   \n",
       "\n",
       "                                                   Referrer  \\\n",
       "0         http://gallica.bnf.fr/ark:/12148/bpt6k83289g.r...   \n",
       "1                                                         -   \n",
       "2                                                         -   \n",
       "3                                                         -   \n",
       "4                                                         -   \n",
       "...                                                     ...   \n",
       "98167545                                                  -   \n",
       "98167546  http://gallica.bnf.fr/services/engine/search/s...   \n",
       "98167547  http://gallica.bnf.fr/services/engine/search/s...   \n",
       "98167548                                                  -   \n",
       "98167549                                                  -   \n",
       "\n",
       "                                                    Request              Ark  \n",
       "0         GET /services/engine/search/sru?operation=sear...               []  \n",
       "1                    GET /ark:/12148/bpt6k116584w.thumbnail   [bpt6k116584w]  \n",
       "2         GET /proxy?method=R&ark=bpt6k1121835.f148&l=0&...               []  \n",
       "3         GET /proxy?method=R&ark=bpt6k1121835.f147&l=-1...               []  \n",
       "4                     GET /ark:/12148/bpt6k77157b.thumbnail    [bpt6k77157b]  \n",
       "...                                                     ...              ...  \n",
       "98167545  GET //iiif/ark:/12148/bpt6k215245w/f1/full/174...   [bpt6k215245w]  \n",
       "98167546  GET /services/ajax/extract/ark:/12148/bpt6k651...  [bpt6k6510332p]  \n",
       "98167547  GET /services/ajax/extract/ark:/12148/bpt6k567...  [bpt6k5677637n]  \n",
       "98167548  GET //iiif/ark:/12148/bpt6k56745826/f373/full/...  [bpt6k56745826]  \n",
       "98167549  GET //iiif/ark:/12148/bpt6k2152167/f162/full/1...   [bpt6k2152167]  \n",
       "\n",
       "[98167550 rows x 9 columns]"
      ]
     },
     "execution_count": 58,
     "metadata": {},
     "output_type": "execute_result"
    }
   ],
   "source": [
    "final_df"
   ]
  },
  {
   "cell_type": "code",
   "execution_count": 59,
   "id": "a2d7c61b-de6a-4b02-b89a-72017e135457",
   "metadata": {},
   "outputs": [
    {
     "name": "stdout",
     "output_type": "stream",
     "text": [
      "1.0163877982082674\n"
     ]
    }
   ],
   "source": [
    "nb_unknown_countries = final_df['Country'].value_counts()['null']\n",
    "percentage_unknown_countries = nb_unknown_countries/len(final_df) * 100\n",
    "print(percentage_unknown_countries)"
   ]
  },
  {
   "cell_type": "code",
   "execution_count": 60,
   "id": "5b78a899-55a5-489a-8f2f-044bdeb0b6e9",
   "metadata": {},
   "outputs": [
    {
     "name": "stdout",
     "output_type": "stream",
     "text": [
      "25.897728933848303\n"
     ]
    }
   ],
   "source": [
    "nb_unknown_cities = final_df['City'].value_counts()['null']\n",
    "percentage_unknown_cities = nb_unknown_cities/len(final_df) * 100\n",
    "print(percentage_unknown_cities)"
   ]
  },
  {
   "cell_type": "code",
   "execution_count": 61,
   "id": "1a1a3d44-3e65-49e3-8051-b4502d223b90",
   "metadata": {},
   "outputs": [],
   "source": [
    "# create df with ip and the difference in time between each connexion and the last\n",
    "sessions_df = final_df.groupby('IPaddress').agg({'Ark':list, 'Date':list})"
   ]
  },
  {
   "cell_type": "code",
   "execution_count": null,
   "id": "c42d197b-d2f0-4b8c-8638-352439bc1bbd",
   "metadata": {},
   "outputs": [],
   "source": []
  },
  {
   "cell_type": "code",
   "execution_count": null,
   "id": "e287d6b0-aa9e-443a-84cb-f3877879ae5c",
   "metadata": {},
   "outputs": [],
   "source": []
  },
  {
   "cell_type": "code",
   "execution_count": null,
   "id": "b7f18af6-2692-45ec-9ed9-51378afccf33",
   "metadata": {},
   "outputs": [],
   "source": []
  }
 ],
 "metadata": {
  "kernelspec": {
   "display_name": "Python 3 (ipykernel)",
   "language": "python",
   "name": "python3"
  },
  "language_info": {
   "codemirror_mode": {
    "name": "ipython",
    "version": 3
   },
   "file_extension": ".py",
   "mimetype": "text/x-python",
   "name": "python",
   "nbconvert_exporter": "python",
   "pygments_lexer": "ipython3",
   "version": "3.10.13"
  }
 },
 "nbformat": 4,
 "nbformat_minor": 5
}
